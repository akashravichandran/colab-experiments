{
  "nbformat": 4,
  "nbformat_minor": 0,
  "metadata": {
    "colab": {
      "name": "deblurv2.ipynb",
      "provenance": [],
      "authorship_tag": "ABX9TyO4COOjJIhicwlW9pTsGaD9",
      "include_colab_link": true
    },
    "kernelspec": {
      "name": "python3",
      "display_name": "Python 3"
    },
    "accelerator": "GPU"
  },
  "cells": [
    {
      "cell_type": "markdown",
      "metadata": {
        "id": "view-in-github",
        "colab_type": "text"
      },
      "source": [
        "<a href=\"https://colab.research.google.com/github/akashravichandran/colab-experiments/blob/master/deblurv2.ipynb\" target=\"_parent\"><img src=\"https://colab.research.google.com/assets/colab-badge.svg\" alt=\"Open In Colab\"/></a>"
      ]
    },
    {
      "cell_type": "code",
      "metadata": {
        "id": "EAsU4L3DX9jW",
        "colab_type": "code",
        "colab": {
          "base_uri": "https://localhost:8080/",
          "height": 136
        },
        "outputId": "2cbe5065-a650-43e9-d5f8-afdc875a4730"
      },
      "source": [
        "! git clone https://github.com/TAMU-VITA/DeblurGANv2"
      ],
      "execution_count": 1,
      "outputs": [
        {
          "output_type": "stream",
          "text": [
            "Cloning into 'DeblurGANv2'...\n",
            "remote: Enumerating objects: 22, done.\u001b[K\n",
            "remote: Counting objects: 100% (22/22), done.\u001b[K\n",
            "remote: Compressing objects: 100% (19/19), done.\u001b[K\n",
            "remote: Total 817 (delta 9), reused 9 (delta 3), pack-reused 795\u001b[K\n",
            "Receiving objects: 100% (817/817), 61.78 MiB | 20.69 MiB/s, done.\n",
            "Resolving deltas: 100% (423/423), done.\n"
          ],
          "name": "stdout"
        }
      ]
    },
    {
      "cell_type": "code",
      "metadata": {
        "id": "2HJlhv2HYikY",
        "colab_type": "code",
        "colab": {
          "base_uri": "https://localhost:8080/",
          "height": 581
        },
        "outputId": "17316820-bb38-485a-ca26-ce7ed67f4eaa"
      },
      "source": [
        "# ! pip install glog\n",
        "# ! pip install tensorboardX\n",
        "! pip install -r /content/DeblurGANv2/requirements.txt"
      ],
      "execution_count": 17,
      "outputs": [
        {
          "output_type": "stream",
          "text": [
            "Requirement already satisfied: torch in /usr/local/lib/python3.6/dist-packages (from -r /content/DeblurGANv2/requirements.txt (line 1)) (1.0.1)\n",
            "Requirement already satisfied: torchvision in /usr/local/lib/python3.6/dist-packages (from -r /content/DeblurGANv2/requirements.txt (line 2)) (0.6.1+cu101)\n",
            "Requirement already satisfied: torchsummary in /usr/local/lib/python3.6/dist-packages (from -r /content/DeblurGANv2/requirements.txt (line 3)) (1.5.1)\n",
            "Requirement already satisfied: pretrainedmodels in /usr/local/lib/python3.6/dist-packages (from -r /content/DeblurGANv2/requirements.txt (line 4)) (0.7.4)\n",
            "Requirement already satisfied: numpy in /usr/local/lib/python3.6/dist-packages (from -r /content/DeblurGANv2/requirements.txt (line 5)) (1.18.5)\n",
            "Requirement already satisfied: opencv-python-headless in /usr/local/lib/python3.6/dist-packages (from -r /content/DeblurGANv2/requirements.txt (line 6)) (4.2.0.34)\n",
            "Requirement already satisfied: joblib in /usr/local/lib/python3.6/dist-packages (from -r /content/DeblurGANv2/requirements.txt (line 7)) (0.15.1)\n",
            "Requirement already satisfied: albumentations in /usr/local/lib/python3.6/dist-packages (from -r /content/DeblurGANv2/requirements.txt (line 8)) (0.1.12)\n",
            "Requirement already satisfied: scikit-image in /usr/local/lib/python3.6/dist-packages (from -r /content/DeblurGANv2/requirements.txt (line 9)) (0.16.2)\n",
            "Requirement already satisfied: tqdm in /usr/local/lib/python3.6/dist-packages (from -r /content/DeblurGANv2/requirements.txt (line 10)) (4.41.1)\n",
            "Requirement already satisfied: glog in /usr/local/lib/python3.6/dist-packages (from -r /content/DeblurGANv2/requirements.txt (line 11)) (0.3.1)\n",
            "Requirement already satisfied: tensorboardx in /usr/local/lib/python3.6/dist-packages (from -r /content/DeblurGANv2/requirements.txt (line 12)) (2.0)\n",
            "Requirement already satisfied: fire in /usr/local/lib/python3.6/dist-packages (from -r /content/DeblurGANv2/requirements.txt (line 13)) (0.3.1)\n",
            "Requirement already satisfied: pillow>=4.1.1 in /usr/local/lib/python3.6/dist-packages (from torchvision->-r /content/DeblurGANv2/requirements.txt (line 2)) (7.0.0)\n",
            "Requirement already satisfied: munch in /usr/local/lib/python3.6/dist-packages (from pretrainedmodels->-r /content/DeblurGANv2/requirements.txt (line 4)) (2.5.0)\n",
            "Requirement already satisfied: opencv-python in /usr/local/lib/python3.6/dist-packages (from albumentations->-r /content/DeblurGANv2/requirements.txt (line 8)) (4.1.2.30)\n",
            "Requirement already satisfied: imgaug<0.2.7,>=0.2.5 in /usr/local/lib/python3.6/dist-packages (from albumentations->-r /content/DeblurGANv2/requirements.txt (line 8)) (0.2.6)\n",
            "Requirement already satisfied: scipy in /usr/local/lib/python3.6/dist-packages (from albumentations->-r /content/DeblurGANv2/requirements.txt (line 8)) (1.4.1)\n",
            "Requirement already satisfied: imageio>=2.3.0 in /usr/local/lib/python3.6/dist-packages (from scikit-image->-r /content/DeblurGANv2/requirements.txt (line 9)) (2.4.1)\n",
            "Requirement already satisfied: networkx>=2.0 in /usr/local/lib/python3.6/dist-packages (from scikit-image->-r /content/DeblurGANv2/requirements.txt (line 9)) (2.4)\n",
            "Requirement already satisfied: matplotlib!=3.0.0,>=2.0.0 in /usr/local/lib/python3.6/dist-packages (from scikit-image->-r /content/DeblurGANv2/requirements.txt (line 9)) (3.2.2)\n",
            "Requirement already satisfied: PyWavelets>=0.4.0 in /usr/local/lib/python3.6/dist-packages (from scikit-image->-r /content/DeblurGANv2/requirements.txt (line 9)) (1.1.1)\n",
            "Requirement already satisfied: python-gflags>=3.1 in /usr/local/lib/python3.6/dist-packages (from glog->-r /content/DeblurGANv2/requirements.txt (line 11)) (3.1.2)\n",
            "Requirement already satisfied: six in /usr/local/lib/python3.6/dist-packages (from glog->-r /content/DeblurGANv2/requirements.txt (line 11)) (1.12.0)\n",
            "Requirement already satisfied: protobuf>=3.8.0 in /usr/local/lib/python3.6/dist-packages (from tensorboardx->-r /content/DeblurGANv2/requirements.txt (line 12)) (3.10.0)\n",
            "Requirement already satisfied: termcolor in /usr/local/lib/python3.6/dist-packages (from fire->-r /content/DeblurGANv2/requirements.txt (line 13)) (1.1.0)\n",
            "Requirement already satisfied: decorator>=4.3.0 in /usr/local/lib/python3.6/dist-packages (from networkx>=2.0->scikit-image->-r /content/DeblurGANv2/requirements.txt (line 9)) (4.4.2)\n",
            "Requirement already satisfied: kiwisolver>=1.0.1 in /usr/local/lib/python3.6/dist-packages (from matplotlib!=3.0.0,>=2.0.0->scikit-image->-r /content/DeblurGANv2/requirements.txt (line 9)) (1.2.0)\n",
            "Requirement already satisfied: cycler>=0.10 in /usr/local/lib/python3.6/dist-packages (from matplotlib!=3.0.0,>=2.0.0->scikit-image->-r /content/DeblurGANv2/requirements.txt (line 9)) (0.10.0)\n",
            "Requirement already satisfied: python-dateutil>=2.1 in /usr/local/lib/python3.6/dist-packages (from matplotlib!=3.0.0,>=2.0.0->scikit-image->-r /content/DeblurGANv2/requirements.txt (line 9)) (2.8.1)\n",
            "Requirement already satisfied: pyparsing!=2.0.4,!=2.1.2,!=2.1.6,>=2.0.1 in /usr/local/lib/python3.6/dist-packages (from matplotlib!=3.0.0,>=2.0.0->scikit-image->-r /content/DeblurGANv2/requirements.txt (line 9)) (2.4.7)\n",
            "Requirement already satisfied: setuptools in /usr/local/lib/python3.6/dist-packages (from protobuf>=3.8.0->tensorboardx->-r /content/DeblurGANv2/requirements.txt (line 12)) (47.3.1)\n"
          ],
          "name": "stdout"
        }
      ]
    },
    {
      "cell_type": "code",
      "metadata": {
        "id": "O-zaKACnbgD4",
        "colab_type": "code",
        "colab": {
          "base_uri": "https://localhost:8080/",
          "height": 238
        },
        "outputId": "9bb29afd-6192-4791-da91-e2febcd94d76"
      },
      "source": [
        "! pip install torch==1.5.1+cu101 torchvision==0.6.1+cu101 -f https://download.pytorch.org/whl/torch_stable.html"
      ],
      "execution_count": 24,
      "outputs": [
        {
          "output_type": "stream",
          "text": [
            "Looking in links: https://download.pytorch.org/whl/torch_stable.html\n",
            "Collecting torch==1.5.1+cu101\n",
            "\u001b[?25l  Downloading https://download.pytorch.org/whl/cu101/torch-1.5.1%2Bcu101-cp36-cp36m-linux_x86_64.whl (704.4MB)\n",
            "\u001b[K     |████████████████████████████████| 704.4MB 26kB/s \n",
            "\u001b[?25hRequirement already satisfied: torchvision==0.6.1+cu101 in /usr/local/lib/python3.6/dist-packages (0.6.1+cu101)\n",
            "Requirement already satisfied: future in /usr/local/lib/python3.6/dist-packages (from torch==1.5.1+cu101) (0.16.0)\n",
            "Requirement already satisfied: numpy in /usr/local/lib/python3.6/dist-packages (from torch==1.5.1+cu101) (1.18.5)\n",
            "Requirement already satisfied: pillow>=4.1.1 in /usr/local/lib/python3.6/dist-packages (from torchvision==0.6.1+cu101) (7.0.0)\n",
            "Installing collected packages: torch\n",
            "  Found existing installation: torch 1.5.1\n",
            "    Uninstalling torch-1.5.1:\n",
            "      Successfully uninstalled torch-1.5.1\n",
            "Successfully installed torch-1.5.1+cu101\n"
          ],
          "name": "stdout"
        }
      ]
    },
    {
      "cell_type": "code",
      "metadata": {
        "id": "PmdVIpvrZkmQ",
        "colab_type": "code",
        "colab": {
          "base_uri": "https://localhost:8080/",
          "height": 85
        },
        "outputId": "7f14c3eb-c409-4506-c563-18e83363835a"
      },
      "source": [
        "# !wget \"https://drive.google.com/u/0/uc?export=download&confirm=_mgo&id=1UXcsRVW-6KF23_TNzxw-xC0SzaMfXOaR\"\n",
        "! gdown --id \"1UXcsRVW-6KF23_TNzxw-xC0SzaMfXOaR\""
      ],
      "execution_count": 32,
      "outputs": [
        {
          "output_type": "stream",
          "text": [
            "Downloading...\n",
            "From: https://drive.google.com/uc?id=1UXcsRVW-6KF23_TNzxw-xC0SzaMfXOaR\n",
            "To: /content/fpn_inception.h5\n",
            "244MB [00:01, 238MB/s]\n"
          ],
          "name": "stdout"
        }
      ]
    },
    {
      "cell_type": "code",
      "metadata": {
        "id": "m8b6s-xvYBjS",
        "colab_type": "code",
        "colab": {
          "base_uri": "https://localhost:8080/",
          "height": 34
        },
        "outputId": "09d55bd4-5a16-4534-af48-ca6d48a0b46c"
      },
      "source": [
        "! ls -lah /content/DeblurGANv2/fpn_inception.h5"
      ],
      "execution_count": 30,
      "outputs": [
        {
          "output_type": "stream",
          "text": [
            "-rw-r--r-- 1 root root 3.2K Jun 28 15:26 /content/DeblurGANv2/fpn_inception.h5\n"
          ],
          "name": "stdout"
        }
      ]
    },
    {
      "cell_type": "code",
      "metadata": {
        "id": "OsqovFhEYa7h",
        "colab_type": "code",
        "colab": {
          "base_uri": "https://localhost:8080/",
          "height": 88
        },
        "outputId": "b951dd7a-c3c3-48ac-d1f1-4ff3ba4f406d"
      },
      "source": [
        "! python /content/DeblurGANv2/predict.py /content/DeblurGANv2/deblur-2400.jpg"
      ],
      "execution_count": 33,
      "outputs": [
        {
          "output_type": "stream",
          "text": [
            "\r  0% 0/1 [00:00<?, ?it/s]/usr/local/lib/python3.6/dist-packages/torch/nn/functional.py:2796: UserWarning: nn.functional.upsample is deprecated. Use nn.functional.interpolate instead.\n",
            "  warnings.warn(\"nn.functional.upsample is deprecated. Use nn.functional.interpolate instead.\")\n",
            "100% 1/1 [00:01<00:00,  1.20s/it]\n"
          ],
          "name": "stdout"
        }
      ]
    },
    {
      "cell_type": "code",
      "metadata": {
        "id": "aJPlfAS3h2Sh",
        "colab_type": "code",
        "colab": {}
      },
      "source": [
        ""
      ],
      "execution_count": null,
      "outputs": []
    },
    {
      "cell_type": "code",
      "metadata": {
        "id": "QwXTdq1QcSAM",
        "colab_type": "code",
        "colab": {}
      },
      "source": [
        ""
      ],
      "execution_count": null,
      "outputs": []
    }
  ]
}