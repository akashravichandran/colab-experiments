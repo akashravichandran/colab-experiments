{
  "nbformat": 4,
  "nbformat_minor": 0,
  "metadata": {
    "colab": {
      "name": "english_to_tamil.ipynb",
      "provenance": [],
      "collapsed_sections": [],
      "authorship_tag": "ABX9TyOdDqaf6C8KEDu+u+NyunYa",
      "include_colab_link": true
    },
    "kernelspec": {
      "name": "python3",
      "display_name": "Python 3"
    }
  },
  "cells": [
    {
      "cell_type": "markdown",
      "metadata": {
        "id": "view-in-github",
        "colab_type": "text"
      },
      "source": [
        "<a href=\"https://colab.research.google.com/github/akashravichandran/colab-experiments/blob/master/english_to_tamil.ipynb\" target=\"_parent\"><img src=\"https://colab.research.google.com/assets/colab-badge.svg\" alt=\"Open In Colab\"/></a>"
      ]
    },
    {
      "cell_type": "code",
      "metadata": {
        "id": "q7dqz9lYGOdd",
        "outputId": "638b3428-a70c-4bb1-db4f-2e1bd90d05de",
        "colab": {
          "base_uri": "https://localhost:8080/"
        }
      },
      "source": [
        "! wget https://www.manythings.org/anki/tam-eng.zip"
      ],
      "execution_count": 2,
      "outputs": [
        {
          "output_type": "stream",
          "text": [
            "--2020-10-31 14:39:08--  https://www.manythings.org/anki/tam-eng.zip\n",
            "Resolving www.manythings.org (www.manythings.org)... 172.67.173.198, 104.24.109.196, 104.24.108.196, ...\n",
            "Connecting to www.manythings.org (www.manythings.org)|172.67.173.198|:443... connected.\n",
            "HTTP request sent, awaiting response... 200 OK\n",
            "Length: 9823 (9.6K) [application/zip]\n",
            "Saving to: ‘tam-eng.zip’\n",
            "\n",
            "tam-eng.zip         100%[===================>]   9.59K  --.-KB/s    in 0s      \n",
            "\n",
            "2020-10-31 14:39:08 (82.3 MB/s) - ‘tam-eng.zip’ saved [9823/9823]\n",
            "\n"
          ],
          "name": "stdout"
        }
      ]
    },
    {
      "cell_type": "code",
      "metadata": {
        "id": "niLAB6tdGU2z",
        "outputId": "7d432031-6646-4058-fe6f-410521b8d90c",
        "colab": {
          "base_uri": "https://localhost:8080/"
        }
      },
      "source": [
        "! unzip tam-eng.zip"
      ],
      "execution_count": 3,
      "outputs": [
        {
          "output_type": "stream",
          "text": [
            "Archive:  tam-eng.zip\n",
            "  inflating: _about.txt              \n",
            "  inflating: tam.txt                 \n"
          ],
          "name": "stdout"
        }
      ]
    },
    {
      "cell_type": "code",
      "metadata": {
        "id": "EZW_zD-EHZAu"
      },
      "source": [
        "import subprocess\n",
        "import argparse\n",
        "import os\n",
        "\n",
        "import pandas as pd\n",
        "\n",
        "# parser = argparse.ArgumentParser()\n",
        "# parser.add_argument('-s', help='ISO 639-3 code for a source language')\n",
        "# parser.add_argument('-t', help='ISO 639-3 code for a target language')\n",
        "# parser.add_argument('-data_dir', default='./data', help='Data directory')\n",
        "\n",
        "\n",
        "if __name__ == '__main__':\n",
        "    # args = parser.parse_args()\n",
        "    source_lang = 'eng'\n",
        "    target_lang = 'tam'\n",
        "    data_dir = 'data/'\n",
        "\n",
        "    # download if sentences are not here\n",
        "    sentences_path = os.path.join(data_dir, 'sentences.csv')\n",
        "    if not os.path.isfile(sentences_path):\n",
        "        if not os.path.isfile(os.path.join(data_dir, 'sentences.tar.bz2')):\n",
        "            subprocess.run(\n",
        "                \"wget https://downloads.tatoeba.org/exports/sentences.tar.bz2 -P \" + data_dir,\n",
        "                shell=True)\n",
        "\n",
        "        subprocess.run(\n",
        "            \"tar xvjC {0} -f {0}/sentences.tar.bz2\".format(data_dir), shell=True)\n",
        "\n",
        "    # download if links are not here\n",
        "    links_path = os.path.join(data_dir, 'links.csv')\n",
        "    if not os.path.isfile(links_path):\n",
        "        if not os.path.isfile(os.path.join(data_dir, 'links.tar.bz2')):\n",
        "            subprocess.run(\n",
        "                \"wget https://downloads.tatoeba.org/exports/links.tar.bz2 -P \" + data_dir,\n",
        "                shell=True)\n",
        "\n",
        "        subprocess.run(\"tar xvjC {0} -f {0}/links.tar.bz2\".format(data_dir), shell=True)\n",
        "\n",
        "    # read all data\n",
        "    sentences = pd.read_csv(sentences_path, names=['id', 'lang', 'text'], header=None, delimiter='\\t')\n",
        "    links = pd.read_csv(links_path, names=['sent_id', 'tran_id'], header=None, delimiter='\\t')\n",
        "\n",
        "    # extract source - target connected\n",
        "    source_sentences = sentences[sentences.lang == source_lang]\n",
        "    source_sentences = source_sentences.merge(links, left_on='id', right_on='sent_id')\n",
        "    target_sentences = sentences[sentences.lang == target_lang]\n",
        "\n",
        "    bilang_sentences = source_sentences.merge(target_sentences, left_on='tran_id',\n",
        "                                              right_on='id',\n",
        "                                              suffixes=[source_lang, target_lang])\n",
        "    bilang_sentences = bilang_sentences[['text' + source_lang, 'text' + target_lang]]\n",
        "\n",
        "    # save results\n",
        "    file_name = os.path.join(data_dir, '{source}-{target}.csv'.format(source=source_lang, target=target_lang))\n",
        "    bilang_sentences.to_csv(file_name, index=False, sep='\\t')\n"
      ],
      "execution_count": 5,
      "outputs": []
    },
    {
      "cell_type": "code",
      "metadata": {
        "id": "Dm1S2iknFdR0"
      },
      "source": [
        "import pandas as pd\n",
        "import os\n",
        "\n",
        "source_lang = 'eng'\n",
        "target_lang = 'tam'\n",
        "data_dir = 'data/'\n",
        "\n",
        "os.chdir('../')\n",
        "corpus = pd.read_csv(os.path.join(data_dir, '{}-{}.csv'.format(source_lang, target_lang)), delimiter='\\t')"
      ],
      "execution_count": null,
      "outputs": []
    }
  ]
}